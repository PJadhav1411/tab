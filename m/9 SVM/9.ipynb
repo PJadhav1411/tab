{
 "cells": [
  {
   "cell_type": "code",
   "execution_count": 43,
   "id": "274b3317",
   "metadata": {
    "id": "274b3317"
   },
   "outputs": [],
   "source": [
    "#Write a python program to implement linear SVM. \n",
    " \n",
    "\n",
    "from sklearn.datasets import make_classification\n",
    "import pandas as pd\n",
    "from sklearn.model_selection import train_test_split\n",
    "from sklearn.metrics import accuracy_score ,confusion_matrix"
   ]
  },
  {
   "cell_type": "code",
   "execution_count": 44,
   "id": "7952313b",
   "metadata": {
    "id": "7952313b"
   },
   "outputs": [],
   "source": [
    "df=make_classification()"
   ]
  },
  {
   "cell_type": "code",
   "execution_count": 45,
   "id": "1e1e1d6b",
   "metadata": {},
   "outputs": [
    {
     "data": {
      "text/plain": [
       "(array([[-0.51023582,  0.3174322 , -0.52446613, ...,  0.9479648 ,\n",
       "          0.66381969, -1.65749915],\n",
       "        [-2.38053538, -0.61823618, -0.27999402, ...,  0.05665251,\n",
       "         -0.95882413,  1.70316744],\n",
       "        [-1.48380751,  0.43597797,  0.57435926, ..., -0.65070928,\n",
       "          0.57941884,  0.31729693],\n",
       "        ...,\n",
       "        [ 0.36067263, -0.04185987,  0.81701501, ...,  1.19223907,\n",
       "         -0.27948856, -1.17193588],\n",
       "        [ 0.94450268, -1.01049613,  0.66596106, ...,  0.62732762,\n",
       "         -1.85557554, -0.88858358],\n",
       "        [-1.07369328,  1.05359287,  0.16694201, ...,  1.2995778 ,\n",
       "          1.71364405, -0.30434103]]),\n",
       " array([1, 1, 0, 0, 1, 1, 0, 0, 1, 0, 0, 0, 0, 1, 1, 0, 0, 0, 0, 0, 1, 1,\n",
       "        0, 1, 0, 0, 1, 0, 1, 0, 1, 0, 1, 1, 0, 0, 0, 0, 1, 1, 1, 1, 1, 1,\n",
       "        0, 0, 1, 1, 1, 0, 1, 0, 1, 0, 0, 0, 0, 0, 1, 0, 0, 1, 1, 0, 1, 0,\n",
       "        1, 1, 1, 1, 1, 1, 0, 1, 1, 1, 0, 1, 1, 0, 0, 0, 0, 1, 1, 1, 0, 1,\n",
       "        1, 0, 1, 0, 0, 0, 0, 1, 1, 0, 0, 1]))"
      ]
     },
     "execution_count": 45,
     "metadata": {},
     "output_type": "execute_result"
    }
   ],
   "source": [
    "df"
   ]
  },
  {
   "cell_type": "code",
   "execution_count": 46,
   "id": "bfae2d34",
   "metadata": {
    "id": "bfae2d34",
    "outputId": "3250a4e5-ec5e-4067-b47e-99672bdf76e4"
   },
   "outputs": [
    {
     "data": {
      "text/plain": [
       "array([[-0.51023582,  0.3174322 , -0.52446613, ...,  0.9479648 ,\n",
       "         0.66381969, -1.65749915],\n",
       "       [-2.38053538, -0.61823618, -0.27999402, ...,  0.05665251,\n",
       "        -0.95882413,  1.70316744],\n",
       "       [-1.48380751,  0.43597797,  0.57435926, ..., -0.65070928,\n",
       "         0.57941884,  0.31729693],\n",
       "       ...,\n",
       "       [ 0.36067263, -0.04185987,  0.81701501, ...,  1.19223907,\n",
       "        -0.27948856, -1.17193588],\n",
       "       [ 0.94450268, -1.01049613,  0.66596106, ...,  0.62732762,\n",
       "        -1.85557554, -0.88858358],\n",
       "       [-1.07369328,  1.05359287,  0.16694201, ...,  1.2995778 ,\n",
       "         1.71364405, -0.30434103]])"
      ]
     },
     "execution_count": 46,
     "metadata": {},
     "output_type": "execute_result"
    }
   ],
   "source": [
    "df[0]"
   ]
  },
  {
   "cell_type": "code",
   "execution_count": 47,
   "id": "a8aa23fd",
   "metadata": {},
   "outputs": [
    {
     "data": {
      "text/plain": [
       "array([1, 1, 0, 0, 1, 1, 0, 0, 1, 0, 0, 0, 0, 1, 1, 0, 0, 0, 0, 0, 1, 1,\n",
       "       0, 1, 0, 0, 1, 0, 1, 0, 1, 0, 1, 1, 0, 0, 0, 0, 1, 1, 1, 1, 1, 1,\n",
       "       0, 0, 1, 1, 1, 0, 1, 0, 1, 0, 0, 0, 0, 0, 1, 0, 0, 1, 1, 0, 1, 0,\n",
       "       1, 1, 1, 1, 1, 1, 0, 1, 1, 1, 0, 1, 1, 0, 0, 0, 0, 1, 1, 1, 0, 1,\n",
       "       1, 0, 1, 0, 0, 0, 0, 1, 1, 0, 0, 1])"
      ]
     },
     "execution_count": 47,
     "metadata": {},
     "output_type": "execute_result"
    }
   ],
   "source": [
    "df[1]"
   ]
  },
  {
   "cell_type": "code",
   "execution_count": 48,
   "id": "1827dc8a",
   "metadata": {
    "id": "1827dc8a"
   },
   "outputs": [],
   "source": [
    "X_train,X_test,Y_train,Y_test=train_test_split(df[0],df[1],test_size=0.2,random_state=1)"
   ]
  },
  {
   "cell_type": "code",
   "execution_count": 49,
   "id": "2ae2944f",
   "metadata": {},
   "outputs": [],
   "source": [
    "from sklearn.svm import LinearSVC"
   ]
  },
  {
   "cell_type": "code",
   "execution_count": 50,
   "id": "0bdc00e9",
   "metadata": {
    "id": "0bdc00e9"
   },
   "outputs": [],
   "source": [
    "model=LinearSVC()"
   ]
  },
  {
   "cell_type": "code",
   "execution_count": 51,
   "id": "d54d1656",
   "metadata": {
    "id": "d54d1656",
    "outputId": "4104ec38-e4c0-45b1-8b1a-ee5d9666aced"
   },
   "outputs": [
    {
     "data": {
      "text/plain": [
       "LinearSVC()"
      ]
     },
     "execution_count": 51,
     "metadata": {},
     "output_type": "execute_result"
    }
   ],
   "source": [
    "model.fit(X_train,Y_train)"
   ]
  },
  {
   "cell_type": "code",
   "execution_count": 52,
   "id": "eea5dbe7",
   "metadata": {
    "id": "eea5dbe7"
   },
   "outputs": [],
   "source": [
    "y_pred=model.predict(X_test)"
   ]
  },
  {
   "cell_type": "code",
   "execution_count": 53,
   "id": "8c2d37ce",
   "metadata": {
    "id": "8c2d37ce",
    "outputId": "3199e78d-4c54-4940-d8ce-f9a4042d77d7"
   },
   "outputs": [
    {
     "data": {
      "text/plain": [
       "array([0, 1, 0, 0, 0, 0, 0, 0, 1, 0, 0, 1, 0, 1, 0, 1, 0, 1, 1, 0])"
      ]
     },
     "execution_count": 53,
     "metadata": {},
     "output_type": "execute_result"
    }
   ],
   "source": [
    "y_pred"
   ]
  },
  {
   "cell_type": "code",
   "execution_count": 54,
   "id": "4c1e0117",
   "metadata": {
    "id": "4c1e0117",
    "outputId": "e25c8208-53af-4838-982b-a4e1c486370d"
   },
   "outputs": [
    {
     "data": {
      "text/plain": [
       "0.9"
      ]
     },
     "execution_count": 54,
     "metadata": {},
     "output_type": "execute_result"
    }
   ],
   "source": [
    "accuracy_score(Y_test,y_pred)"
   ]
  },
  {
   "cell_type": "code",
   "execution_count": 55,
   "id": "808ca748",
   "metadata": {
    "id": "808ca748",
    "outputId": "69c0bcf1-a2b7-42e7-e5ef-623fac878f57"
   },
   "outputs": [
    {
     "data": {
      "text/plain": [
       "array([[12,  1],\n",
       "       [ 1,  6]], dtype=int64)"
      ]
     },
     "execution_count": 55,
     "metadata": {},
     "output_type": "execute_result"
    }
   ],
   "source": [
    "confusion_matrix(Y_test,y_pred)"
   ]
  },
  {
   "cell_type": "code",
   "execution_count": 56,
   "id": "1f265079",
   "metadata": {
    "id": "1f265079",
    "outputId": "ff96ed69-360f-4617-8173-afb2119f2f1d"
   },
   "outputs": [
    {
     "data": {
      "text/plain": [
       "90.0"
      ]
     },
     "execution_count": 56,
     "metadata": {},
     "output_type": "execute_result"
    }
   ],
   "source": [
    "model.score(X_test,Y_test)*100"
   ]
  }
 ],
 "metadata": {
  "colab": {
   "provenance": []
  },
  "kernelspec": {
   "display_name": "base",
   "language": "python",
   "name": "python3"
  },
  "language_info": {
   "codemirror_mode": {
    "name": "ipython",
    "version": 3
   },
   "file_extension": ".py",
   "mimetype": "text/x-python",
   "name": "python",
   "nbconvert_exporter": "python",
   "pygments_lexer": "ipython3",
   "version": "3.9.13"
  },
  "vscode": {
   "interpreter": {
    "hash": "de9b57de630d2acd06c7404cbcf2833413b307b555eb1e0ae1d4159b5c12c475"
   }
  }
 },
 "nbformat": 4,
 "nbformat_minor": 5
}
