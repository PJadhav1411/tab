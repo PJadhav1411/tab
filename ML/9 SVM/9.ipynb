{
 "cells": [
  {
   "cell_type": "code",
   "execution_count": 50,
   "id": "274b3317",
   "metadata": {
    "id": "274b3317"
   },
   "outputs": [],
   "source": [
    "#Write a python program to implement linear SVM. \n",
    " \n",
    "\n",
    "from sklearn.datasets import make_classification\n",
    "import pandas as pd\n",
    "from sklearn.model_selection import train_test_split\n",
    "from sklearn.metrics import accuracy_score\n",
    "from sklearn.metrics import confusion_matrix"
   ]
  },
  {
   "cell_type": "code",
   "execution_count": 51,
   "id": "7952313b",
   "metadata": {
    "id": "7952313b"
   },
   "outputs": [],
   "source": [
    "dataset=make_classification()"
   ]
  },
  {
   "cell_type": "code",
   "execution_count": 52,
   "id": "1e1e1d6b",
   "metadata": {},
   "outputs": [
    {
     "data": {
      "text/plain": [
       "(array([[-1.48590014, -0.58731125,  0.31498184, ..., -0.40469085,\n",
       "          1.89126825,  0.78778805],\n",
       "        [-0.62592606, -0.06530896, -1.31388799, ...,  1.50493525,\n",
       "          0.99217759,  0.53304861],\n",
       "        [-0.60386205,  0.74674551,  1.02942307, ..., -0.42417115,\n",
       "          0.44266367,  0.17093727],\n",
       "        ...,\n",
       "        [ 1.13733174,  1.76553504,  0.737393  , ...,  0.96384012,\n",
       "          0.14624382, -0.13100542],\n",
       "        [-0.45085369, -0.87785075, -0.35218105, ..., -0.6135782 ,\n",
       "         -0.09344497, -0.23791273],\n",
       "        [ 1.09922678,  1.49389455, -2.07410223, ...,  1.03485993,\n",
       "         -0.12893778, -1.97038215]]),\n",
       " array([1, 0, 1, 0, 0, 1, 0, 0, 0, 1, 1, 1, 1, 0, 0, 0, 1, 0, 1, 0, 0, 1,\n",
       "        1, 1, 1, 0, 0, 1, 0, 0, 1, 1, 1, 0, 1, 0, 1, 1, 1, 0, 0, 1, 1, 1,\n",
       "        1, 0, 1, 1, 1, 1, 0, 1, 1, 0, 0, 0, 0, 0, 0, 0, 1, 1, 1, 1, 1, 0,\n",
       "        0, 0, 1, 1, 1, 0, 1, 1, 1, 0, 1, 0, 0, 0, 0, 0, 0, 1, 1, 0, 0, 1,\n",
       "        0, 1, 0, 1, 0, 1, 1, 0, 1, 0, 0, 1]))"
      ]
     },
     "execution_count": 52,
     "metadata": {},
     "output_type": "execute_result"
    }
   ],
   "source": [
    "dataset"
   ]
  },
  {
   "cell_type": "code",
   "execution_count": 53,
   "id": "bfae2d34",
   "metadata": {
    "id": "bfae2d34",
    "outputId": "3250a4e5-ec5e-4067-b47e-99672bdf76e4"
   },
   "outputs": [
    {
     "data": {
      "text/plain": [
       "array([[-1.48590014, -0.58731125,  0.31498184, ..., -0.40469085,\n",
       "         1.89126825,  0.78778805],\n",
       "       [-0.62592606, -0.06530896, -1.31388799, ...,  1.50493525,\n",
       "         0.99217759,  0.53304861],\n",
       "       [-0.60386205,  0.74674551,  1.02942307, ..., -0.42417115,\n",
       "         0.44266367,  0.17093727],\n",
       "       ...,\n",
       "       [ 1.13733174,  1.76553504,  0.737393  , ...,  0.96384012,\n",
       "         0.14624382, -0.13100542],\n",
       "       [-0.45085369, -0.87785075, -0.35218105, ..., -0.6135782 ,\n",
       "        -0.09344497, -0.23791273],\n",
       "       [ 1.09922678,  1.49389455, -2.07410223, ...,  1.03485993,\n",
       "        -0.12893778, -1.97038215]])"
      ]
     },
     "execution_count": 53,
     "metadata": {},
     "output_type": "execute_result"
    }
   ],
   "source": [
    "dataset[0]"
   ]
  },
  {
   "cell_type": "code",
   "execution_count": 54,
   "id": "a8aa23fd",
   "metadata": {},
   "outputs": [
    {
     "data": {
      "text/plain": [
       "array([1, 0, 1, 0, 0, 1, 0, 0, 0, 1, 1, 1, 1, 0, 0, 0, 1, 0, 1, 0, 0, 1,\n",
       "       1, 1, 1, 0, 0, 1, 0, 0, 1, 1, 1, 0, 1, 0, 1, 1, 1, 0, 0, 1, 1, 1,\n",
       "       1, 0, 1, 1, 1, 1, 0, 1, 1, 0, 0, 0, 0, 0, 0, 0, 1, 1, 1, 1, 1, 0,\n",
       "       0, 0, 1, 1, 1, 0, 1, 1, 1, 0, 1, 0, 0, 0, 0, 0, 0, 1, 1, 0, 0, 1,\n",
       "       0, 1, 0, 1, 0, 1, 1, 0, 1, 0, 0, 1])"
      ]
     },
     "execution_count": 54,
     "metadata": {},
     "output_type": "execute_result"
    }
   ],
   "source": [
    "dataset[1]"
   ]
  },
  {
   "cell_type": "code",
   "execution_count": 55,
   "id": "1827dc8a",
   "metadata": {
    "id": "1827dc8a"
   },
   "outputs": [],
   "source": [
    "X_train,X_test,Y_train,Y_test=train_test_split(dataset[0],dataset[1],test_size=0.2,random_state=1)"
   ]
  },
  {
   "cell_type": "code",
   "execution_count": 56,
   "id": "2ae2944f",
   "metadata": {},
   "outputs": [],
   "source": [
    "from sklearn.svm import LinearSVC"
   ]
  },
  {
   "cell_type": "code",
   "execution_count": 57,
   "id": "0bdc00e9",
   "metadata": {
    "id": "0bdc00e9"
   },
   "outputs": [],
   "source": [
    "model=LinearSVC()"
   ]
  },
  {
   "cell_type": "code",
   "execution_count": 58,
   "id": "d54d1656",
   "metadata": {
    "id": "d54d1656",
    "outputId": "4104ec38-e4c0-45b1-8b1a-ee5d9666aced"
   },
   "outputs": [
    {
     "data": {
      "text/plain": [
       "LinearSVC()"
      ]
     },
     "execution_count": 58,
     "metadata": {},
     "output_type": "execute_result"
    }
   ],
   "source": [
    "model.fit(X_train,Y_train)"
   ]
  },
  {
   "cell_type": "code",
   "execution_count": 59,
   "id": "eea5dbe7",
   "metadata": {
    "id": "eea5dbe7"
   },
   "outputs": [],
   "source": [
    "y_pred=model.predict(X_test)"
   ]
  },
  {
   "cell_type": "code",
   "execution_count": 60,
   "id": "8c2d37ce",
   "metadata": {
    "id": "8c2d37ce",
    "outputId": "3199e78d-4c54-4940-d8ce-f9a4042d77d7"
   },
   "outputs": [
    {
     "data": {
      "text/plain": [
       "array([1, 1, 1, 0, 1, 1, 1, 1, 1, 0, 0, 0, 1, 0, 1, 0, 0, 1, 1, 1])"
      ]
     },
     "execution_count": 60,
     "metadata": {},
     "output_type": "execute_result"
    }
   ],
   "source": [
    "y_pred"
   ]
  },
  {
   "cell_type": "code",
   "execution_count": 61,
   "id": "4c1e0117",
   "metadata": {
    "id": "4c1e0117",
    "outputId": "e25c8208-53af-4838-982b-a4e1c486370d"
   },
   "outputs": [
    {
     "data": {
      "text/plain": [
       "0.55"
      ]
     },
     "execution_count": 61,
     "metadata": {},
     "output_type": "execute_result"
    }
   ],
   "source": [
    "accuracy_score(Y_test,y_pred)"
   ]
  },
  {
   "cell_type": "code",
   "execution_count": 62,
   "id": "808ca748",
   "metadata": {
    "id": "808ca748",
    "outputId": "69c0bcf1-a2b7-42e7-e5ef-623fac878f57"
   },
   "outputs": [
    {
     "data": {
      "text/plain": [
       "array([[4, 6],\n",
       "       [3, 7]], dtype=int64)"
      ]
     },
     "execution_count": 62,
     "metadata": {},
     "output_type": "execute_result"
    }
   ],
   "source": [
    "confusion_matrix(Y_test,y_pred)"
   ]
  },
  {
   "cell_type": "code",
   "execution_count": 63,
   "id": "1f265079",
   "metadata": {
    "id": "1f265079",
    "outputId": "ff96ed69-360f-4617-8173-afb2119f2f1d"
   },
   "outputs": [
    {
     "data": {
      "text/plain": [
       "55.00000000000001"
      ]
     },
     "execution_count": 63,
     "metadata": {},
     "output_type": "execute_result"
    }
   ],
   "source": [
    "model.score(X_test,Y_test)*100"
   ]
  }
 ],
 "metadata": {
  "colab": {
   "provenance": []
  },
  "kernelspec": {
   "display_name": "base",
   "language": "python",
   "name": "python3"
  },
  "language_info": {
   "codemirror_mode": {
    "name": "ipython",
    "version": 3
   },
   "file_extension": ".py",
   "mimetype": "text/x-python",
   "name": "python",
   "nbconvert_exporter": "python",
   "pygments_lexer": "ipython3",
   "version": "3.9.13"
  },
  "vscode": {
   "interpreter": {
    "hash": "de9b57de630d2acd06c7404cbcf2833413b307b555eb1e0ae1d4159b5c12c475"
   }
  }
 },
 "nbformat": 4,
 "nbformat_minor": 5
}
